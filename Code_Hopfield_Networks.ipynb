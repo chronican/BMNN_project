{
 "cells": [
  {
   "cell_type": "markdown",
   "metadata": {
    "id": "FWnJZcKZd9Ye"
   },
   "source": [
    "# Miniproject: Hopfield networks\n",
    "### SCIPER: 308932"
   ]
  },
  {
   "cell_type": "code",
   "execution_count": 1,
   "metadata": {
    "id": "7B9Dh_Zjd9Yf"
   },
   "outputs": [],
   "source": [
    "# start with importing the libraries we need\n",
    "\n",
    "%matplotlib inline  \n",
    "import matplotlib.pyplot as plt\n",
    "import seaborn as sns\n",
    "sns.set()\n",
    "import sympy, math\n",
    "from sympy import *\n",
    "import pandas as pd\n",
    "import numpy as np\n",
    "from neurodynex3.hopfield_network import pattern_tools, plot_tools, network\n",
    "import neurodynex3.hopfield_network.pattern_tools as tools"
   ]
  },
  {
   "cell_type": "markdown",
   "metadata": {
    "id": "IMWWgIo8d9Yg"
   },
   "source": [
    "## 1 Theory questions"
   ]
  },
  {
   "cell_type": "markdown",
   "metadata": {
    "id": "O-02bkbjd9Yg"
   },
   "source": [
    "## 2 Capacity"
   ]
  },
  {
   "cell_type": "markdown",
   "metadata": {
    "id": "rB_rIQs4d9Yh"
   },
   "source": [
    "**Question 2.2**: Firstly, we use the alternative more efficient way to store the patterns and compare it with the neurodynex version"
   ]
  },
  {
   "cell_type": "code",
   "execution_count": 4,
   "metadata": {
    "id": "Ajymx8zPd9Yh"
   },
   "outputs": [],
   "source": [
    "class Hopfield_fast(network.HopfieldNetwork):\n",
    "    def __init__(self, nr_neurons):\n",
    "        super().__init__(nr_neurons)\n",
    "    \n",
    "    def store_patterns(self, pattern_list):\n",
    "        # check if the input is a list or a numpy array\n",
    "        if type(pattern_list) == list:\n",
    "            pattern_list = np.array(pattern_list)\n",
    "        pattern_list = pattern_list.reshape(pattern_list.shape[0],-1)\n",
    "        pattern_size = pattern_list.shape[1]\n",
    "        # fill in the following line for make the Hopfield_fast class to run\n",
    "        self.weights = 1 / pattern_size  * np.einsum('mn,nk->mk', pattern_list.T, pattern_list) \n",
    "        np.fill_diagonal(self.weights, 0)"
   ]
  },
  {
   "cell_type": "code",
   "execution_count": 5,
   "metadata": {
    "colab": {
     "base_uri": "https://localhost:8080/",
     "height": 92
    },
    "id": "neeWCNvCd9Yi",
    "outputId": "babcf45a-1a96-460a-dc97-98479aff44fc"
   },
   "outputs": [
    {
     "data": {
      "image/png": "[encoded data removed]",
      "text/plain": [
       "<Figure size 432x288 with 10 Axes>"
      ]
     },
     "metadata": {
      "needs_background": "light",
      "tags": []
     },
     "output_type": "display_data"
    },
    {
     "name": "stdout",
     "output_type": "stream",
     "text": [
      "All the weights are the same:  True\n"
     ]
    }
   ],
   "source": [
    "# Before you continue test that your weights are correct (compare with the neurodynex version)\n",
    "\n",
    "## we define the number of patterns as 10 to do a test\n",
    "nr_patterns = 10 \n",
    "## pattern size should be the square root of number of neurons\n",
    "pattern_size = 10\n",
    "\n",
    "## create an instance of the class HopfieldNetwork by neurodynex version\n",
    "hopfield_net_class = network.HopfieldNetwork(nr_neurons= pattern_size**2)\n",
    "## create an instance of the fast HopfieldNetwork by we defined above.\n",
    "hopfield_net_fast=Hopfield_fast(nr_neurons=pattern_size**2)\n",
    "\n",
    "## instantiate a pattern factory\n",
    "factory = pattern_tools.PatternFactory(pattern_size, pattern_size)\n",
    "\n",
    "## Create the random patterns \n",
    "pattern_list = factory.create_random_pattern_list(nr_patterns, on_probability=0.5)\n",
    "plot_tools.plot_pattern_list(pattern_list)\n",
    "\n",
    "## let the hopfield network \"learn\" the patterns. \n",
    "hopfield_net_class.store_patterns(pattern_list)\n",
    "hopfield_net_fast.store_patterns(pattern_list)\n",
    "\n",
    "## test that your weights are correct (compare with the neurodynex version)\n",
    "assert (hopfield_net_class.weights==hopfield_net_fast.weights).all()\n",
    "print('All the weights are the same: ', (hopfield_net_class.weights==hopfield_net_fast.weights).all())"
   ]
  },
  {
   "cell_type": "markdown",
   "metadata": {
    "id": "6skCqjVZd9Yj"
   },
   "source": [
    "**Question 2.2**: Then, we can plot the probability for pattern p1 to be effectively stored decreases with the number of patterns P. We make the plot for these two hopfield networks and we can compare these results"
   ]
  },
  {
   "cell_type": "code",
   "execution_count": 11,
   "metadata": {
    "id": "ZqmeNpWGd9Yj"
   },
   "outputs": [],
   "source": [
    "# initializa some parameters\n",
    "\n",
    "## pattern size should be the square root of number of neurons\n",
    "pattern_size = 10\n",
    "## times for run the hopfield_net, generate many random Hopfield networks to estimate the probability.\n",
    "simulation_times_run_script=10000\n",
    "## numpy array about number of patterns\n",
    "pattern_iter=np.arange(1,101,1)"
   ]
  },
  {
   "cell_type": "code",
   "execution_count": 27,
   "metadata": {
    "id": "dEJogX0kd9Yj"
   },
   "outputs": [],
   "source": [
    "def calculate_probability(Network_type, pattern_iter, pattern_size, simulation_times_run_script):\n",
    "    probability_results=np.zeros(pattern_iter.shape)\n",
    "    \n",
    "    for pattern_num, x in zip(pattern_iter, range(pattern_iter.shape[0])):\n",
    "        \n",
    "        ##create an instance of the class HopfieldNetwork\n",
    "        if Network_type=='class':\n",
    "            hopfield_net = network.HopfieldNetwork(nr_neurons= pattern_size**2)\n",
    "        elif Network_type=='fast':\n",
    "            hopfield_net = Hopfield_fast(nr_neurons= pattern_size**2)\n",
    "        else:\n",
    "            print(\" network type error\")\n",
    "            \n",
    "        ## instantiate a pattern factory\n",
    "        factory = pattern_tools.PatternFactory(pattern_size, pattern_size)\n",
    "        ## define a calculator\n",
    "        idx=0\n",
    "        \n",
    "        for i in range(simulation_times_run_script):\n",
    "            ## Create the random patterns \n",
    "            pattern_list=factory.create_random_pattern_list(nr_patterns=pattern_num, on_probability=0.5)\n",
    "            ## let the hopfield network \"learn\" the patterns. \n",
    "            hopfield_net.store_patterns(pattern_list)\n",
    "            ## initialize with original pattern\n",
    "            hopfield_net.set_state_from_pattern(pattern_list[0])\n",
    "            ## from this initial state, let the network dynamics evolve. Because we fix the time steps as 5, so the number there is 5-4=1\n",
    "            states = hopfield_net.run_with_monitoring(nr_steps=4)\n",
    "            ## reshape the network to the same shape used to create the patterns.\n",
    "            states_as_patterns = factory.reshape_patterns(states)\n",
    "            \n",
    "            # Calculate the overlap \n",
    "            overlaps_list = pattern_tools.compute_overlap_list(states_as_patterns[-1], pattern_list)\n",
    "            max_overlap = np.argmax(overlaps_list)\n",
    "            if (max_overlap == 0):\n",
    "                idx += 1\n",
    "        \n",
    "        probability_results[x]=idx/simulation_times_run_script\n",
    "        print(\"Probability for\", pattern_num, \"is\", probability_results[x])\n",
    "    return probability_results        "
   ]
  },
  {
   "cell_type": "code",
   "execution_count": null,
   "metadata": {
    "id": "muETJPudd9Yk"
   },
   "outputs": [],
   "source": [
    "probability_fast=calculate_probability(\"fast\",pattern_iter,pattern_size, simulation_times_run_script)"
   ]
  },
  {
   "cell_type": "code",
   "execution_count": 25,
   "metadata": {
    "colab": {
     "base_uri": "https://localhost:8080/",
     "height": 301
    },
    "id": "Kej0KQKXsD9x",
    "outputId": "a5f1882d-5f53-4fa2-c391-1983c9ed176a"
   },
   "outputs": [
    {
     "data": {
      "image/png": "[encoded data removed]",
      "text/plain": [
       "<Figure size 432x288 with 1 Axes>"
      ]
     },
     "metadata": {
      "tags": []
     },
     "output_type": "display_data"
    }
   ],
   "source": [
    "prob_fast_plot = pd.DataFrame({\"number of patterns\":pattern_iter, \"probability_fast\":probability_fast})\n",
    "sns.scatterplot(x = \"number of patterns\", y = \"probability_fast\", data=prob_fast_plot)\n",
    "sns.set(style='darkgrid',)\n",
    "plt.title(\"Probability of effectively storing pattern p1  for fast Hopfileld Network\")\n",
    "plt.show()"
   ]
  },
  {
   "cell_type": "code",
   "execution_count": 29,
   "metadata": {
    "id": "GibKKhVOugYG"
   },
   "outputs": [],
   "source": [
    "## probability_class=calculate_probability(\"class\",pattern_iter,pattern_size, simulation_times_run_script)"
   ]
  },
  {
   "cell_type": "code",
   "execution_count": 50,
   "metadata": {
    "id": "qNCZAlzRd9Yk"
   },
   "outputs": [],
   "source": [
    "# plot the figure for probability for class Hopfileld Network\n",
    "##prob_class_plot = pd.DataFrame({\"number of patterns\":pattern_iter, \"probability_class\":probability_class})\n",
    "##sns.scatterplot(x = \"number of patterns\", y = \"probability_class\", data=prob_class_plot)\n",
    "##sns.set(style='darkgrid',)\n",
    "##plt.title(\"Probability of effectively storing pattern p1  for class Hopfileld Network\")\n",
    "##plt.show()\n"
   ]
  },
  {
   "cell_type": "markdown",
   "metadata": {
    "id": "knHKJPsPd9Yl"
   },
   "source": [
    "* Question 2.3 : In this part, we first calculate the empirical capacity and then compare with theoretical capacity"
   ]
  },
  {
   "cell_type": "code",
   "execution_count": 56,
   "metadata": {
    "colab": {
     "base_uri": "https://localhost:8080/"
    },
    "id": "g9bN8pb0kanz",
    "outputId": "3864a2da-ccda-4a17-cbb1-d6cd849c3cfa"
   },
   "outputs": [
    {
     "name": "stdout",
     "output_type": "stream",
     "text": [
      "the empirical capacity is: 0.3\n",
      "0.983790458590774\n",
      "the theoretical capacity is: 0.18\n"
     ]
    }
   ],
   "source": [
    "# the empirical capacity\n",
    "C_em=sum(probability_fast>=0.99)/100\n",
    "print(\"the empirical capacity is:\", C_em)\n",
    "\n",
    "# the theoretical capacity\n",
    "## firstly, we want to the erf value is above 1-2/N=0.98.\n",
    "## according to the function we find that the erf(1.7)>=0.98\n",
    "x = Symbol('x')\n",
    "f=exp(-x**2)*2/(math.sqrt(math.pi))\n",
    "inte_part=integrate(f, (x, 0, 1.7)).evalf()\n",
    "print(inte_part)\n",
    "\n",
    "## So we calculete the theoretical capacity:\n",
    "C_th=math.floor((100/(1.7*1.7*2)+1))/100\n",
    "print(\"the theoretical capacity is:\", C_th)\n"
   ]
  },
  {
   "cell_type": "markdown",
   "metadata": {
    "id": "L113JbmLd9Yl"
   },
   "source": [
    "## 3 From binary neurons to saturated rectified linear neurons."
   ]
  },
  {
   "cell_type": "markdown",
   "metadata": {
    "id": "sgG4K_v1d9Yl"
   },
   "source": [
    "**Question 3.1:** the graph of function g for $\\beta =1$"
   ]
  },
  {
   "cell_type": "code",
   "execution_count": 58,
   "metadata": {
    "id": "CLmMmA9Rd9Yl"
   },
   "outputs": [],
   "source": [
    "# define the gain function with beta=1\n",
    "def g(beta,h):\n",
    "    out=np.minimum(1, np.maximum(-1, beta*h))\n",
    "    return out\n",
    "\n",
    "# assign the values of x-axis and y-axis\n",
    "gx_values=np.linspace(-5, 5, 100)\n",
    "gy_values=[g(1,i) for i in gx_values]\n",
    "g_func_plot=pd.DataFrame({\"h\":gx_values, \"g(h)\":gy_values})"
   ]
  },
  {
   "cell_type": "code",
   "execution_count": 60,
   "metadata": {
    "colab": {
     "base_uri": "https://localhost:8080/",
     "height": 301
    },
    "id": "mfstxRSed9Ym",
    "outputId": "0cd6624c-58d4-423d-8176-bdfddf4e5d43"
   },
   "outputs": [
    {
     "data": {
      "image/png": "[encoded data removed]",
      "text/plain": [
       "<Figure size 432x288 with 1 Axes>"
      ]
     },
     "metadata": {
      "tags": []
     },
     "output_type": "display_data"
    }
   ],
   "source": [
    "# plot the g function\n",
    "sns.lineplot(x = \"h\", y = \"g(h)\", data=g_func_plot)\n",
    "plt.title('Gain function for beta = 1')\n",
    "plt.show()"
   ]
  },
  {
   "cell_type": "markdown",
   "metadata": {
    "id": "M3Cm_pMTd9Ym"
   },
   "source": [
    "**Question 3.2:**  theory questions"
   ]
  },
  {
   "cell_type": "markdown",
   "metadata": {
    "id": "BxQxHRyKd9Ym"
   },
   "source": [
    "**Question 3.3:**  In this question, we need to consider the influence of steepness $\\beta$ on the capacity of network. So, we plot the capacity as a function of $\\beta$ . ** the update function is Synchronize，we can also use asychronize version**"
   ]
  },
  {
   "cell_type": "code",
   "execution_count": 66,
   "metadata": {
    "id": "jSF9hFM6d9Yn"
   },
   "outputs": [],
   "source": [
    "#firstly, we define the synchronize update function:\n",
    "def beta_update(beta):\n",
    "    def network_update(state_s0, weights):\n",
    "        h = np.sum(weights * state_s0, axis=1)\n",
    "        g_h= np.minimum(1, np.maximum(-1, beta*h))\n",
    "        state_s1=np.ones(g_h.shape)\n",
    "        rand = np.random.uniform(0,1, g_h.shape)\n",
    "        idx = g_h <= rand\n",
    "        state_s1[idx] = -1\n",
    "        return state_s1\n",
    "    return network_update\n",
    "\n",
    "def calculate_capacity(pattern_iter, pattern_size, simulation_times_run_script, betas, N):\n",
    "    capacity_results=np.zeros(betas.shape)\n",
    "    for b, x in zip(betas, range(betas.shape[0])):\n",
    "        probability_results=np.zeros(pattern_iter.shape)\n",
    "        for pattern_num, y in zip(pattern_iter, range(pattern_iter.shape[0])):\n",
    "            # create an instance of the fast HopfieldNetwork\n",
    "            hopfield_net = Hopfield_fast(nr_neurons= pattern_size**2)\n",
    "            # set the update function\n",
    "            hopfield_net.set_dynamics_to_user_function(beta_update(beta=b))\n",
    "            #instantiate a pattern factory\n",
    "            factory = pattern_tools.PatternFactory(pattern_size, pattern_size)\n",
    "            ## define a calculator\n",
    "            idx=0\n",
    "                   \n",
    "            for i in range(simulation_times_run_script):\n",
    "                ## Create the random patterns \n",
    "                pattern_list=factory.create_random_pattern_list(nr_patterns=pattern_num, on_probability=0.5)\n",
    "                ## let the hopfield network \"learn\" the patterns. \n",
    "                hopfield_net.store_patterns(pattern_list)\n",
    "                ## initialize with original pattern\n",
    "                hopfield_net.set_state_from_pattern(pattern_list[0])\n",
    "                ## from this initial state, let the network dynamics evolve. Because we fix the time steps as 5, so the number there is 5-4=1\n",
    "                states = hopfield_net.run_with_monitoring(nr_steps=4)\n",
    "                ## reshape the network to the same shape used to create the patterns.\n",
    "                states_as_patterns = factory.reshape_patterns(states)\n",
    "                   \n",
    "                overlap_list = pattern_tools.compute_overlap_list(states_as_patterns[-1], pattern_list)\n",
    "                max_overlap = np.argmax(overlap_list)\n",
    "                if (max_overlap == 0): \n",
    "                    idx += 1\n",
    "                   \n",
    "            probability_results[y]=idx/simulation_times_run_script\n",
    "        capacity_results[x]=sum(probability_results>=0.99)/N\n",
    "        print('Beta='+str(b)+', Capacity='+str(capacity_results[x]))\n",
    "    return capacity_results    \n"
   ]
  },
  {
   "cell_type": "code",
   "execution_count": 71,
   "metadata": {
    "id": "F3lIlgOMd9Yn"
   },
   "outputs": [],
   "source": [
    "# Next, we define the initialize the beta value and patterns number list value\n",
    "betas=np.arange(1,31,1)\n",
    "\n",
    "pattern_iter=np.array([1,2,3,4,5,6,7,8,9,10,11,12,13,14,15,16,17,18,19,20,30,40,50,60,70,80,90,100])\n",
    "\n",
    "# define the other parameters:\n",
    "simulation_times_run_script=1000\n",
    "pattern_size=10\n",
    "N=100"
   ]
  },
  {
   "cell_type": "code",
   "execution_count": null,
   "metadata": {
    "id": "hzw9NSMsd9Yo"
   },
   "outputs": [],
   "source": [
    "capacity_results=calculate_capacity(pattern_iter, pattern_size, simulation_times_run_script, betas, N)"
   ]
  },
  {
   "cell_type": "code",
   "execution_count": 76,
   "metadata": {
    "colab": {
     "base_uri": "https://localhost:8080/",
     "height": 301
    },
    "id": "QjoDU9Zr-npt",
    "outputId": "892dabf6-93c3-412d-f347-81305a0e5d20"
   },
   "outputs": [
    {
     "data": {
      "image/png": "[encoded data removed]",
      "text/plain": [
       "<Figure size 432x288 with 1 Axes>"
      ]
     },
     "metadata": {
      "tags": []
     },
     "output_type": "display_data"
    }
   ],
   "source": [
    "func_beta_plot=pd.DataFrame({\"Betas\":betas, \"Capacity\":capacity_results})\n",
    "sns.lineplot(x = \"Betas\", y = \"Capacity\", data=func_beta_plot)\n",
    "plt.title('beta value influence on capacity')\n",
    "plt.show()\n"
   ]
  },
  {
   "cell_type": "code",
   "execution_count": null,
   "metadata": {
    "id": "dMzflwWD4fJ8"
   },
   "outputs": [],
   "source": [
    "small_betas=np.array([0.01,0.1,0.5,0.7])\n",
    "capacity_results_small=calculate_capacity(pattern_iter, pattern_size, simulation_times_run_script, small_betas, N)"
   ]
  },
  {
   "cell_type": "code",
   "execution_count": 77,
   "metadata": {
    "colab": {
     "base_uri": "https://localhost:8080/",
     "height": 656
    },
    "id": "BB9bJqJkCYbi",
    "outputId": "5c387ed5-0654-436c-b949-14b4168d152e"
   },
   "outputs": [
    {
     "data": {
      "image/png": "[encoded data removed]",
      "text/plain": [
       "<Figure size 432x288 with 10 Axes>"
      ]
     },
     "metadata": {
      "tags": []
     },
     "output_type": "display_data"
    },
    {
     "data": {
      "image/png": "[encoded data removed]",
      "text/plain": [
       "<Figure size 432x288 with 2 Axes>"
      ]
     },
     "metadata": {
      "tags": []
     },
     "output_type": "display_data"
    },
    {
     "name": "stdout",
     "output_type": "stream",
     "text": [
      "\n"
     ]
    },
    {
     "data": {
      "image/png": "[encoded data removed]",
      "text/plain": [
       "<Figure size 432x288 with 10 Axes>"
      ]
     },
     "metadata": {
      "tags": []
     },
     "output_type": "display_data"
    }
   ],
   "source": [
    "beta_ex = 0.1\n",
    "pattern_size = 10\n",
    "# create an instance of the fast HopfieldNetwork\n",
    "hopfield_net = Hopfield_fast(nr_neurons= pattern_size**2)\n",
    "# set the update function\n",
    "hopfield_net.set_dynamics_to_user_function(beta_update(beta=beta_ex))\n",
    "factory = pattern_tools.PatternFactory(pattern_size, pattern_size)\n",
    "\n",
    "pattern_list=factory.create_random_pattern_list(nr_patterns=10, on_probability=0.5)\n",
    "\n",
    "plot_tools.plot_pattern_list(pattern_list)\n",
    "overlap_matrix = pattern_tools.compute_overlap_matrix(pattern_list)\n",
    "plot_tools.plot_overlap_matrix(overlap_matrix)\n",
    "hopfield_net.store_patterns(pattern_list)\n",
    "\n",
    "#hopfield_net.set_state_from_pattern(pattern_list[0])\n",
    "\n",
    "# from this initial state, let the network dynamics evolve.\n",
    "states = hopfield_net.run_with_monitoring(nr_steps=4)\n",
    "# each network state is a vector. reshape it to the same shape used to create the patterns.\n",
    "states_as_patterns = factory.reshape_patterns(states)\n",
    "# plot the states of the network\n",
    "plot_tools.plot_state_sequence_and_overlap(states_as_patterns, pattern_list, reference_idx=0, suptitle=\"Network dynamics\") "
   ]
  },
  {
   "cell_type": "markdown",
   "metadata": {
    "id": "WFePet-Kd9Yp"
   },
   "source": [
    "## 4 Correlated patterns"
   ]
  }
 ],
 "metadata": {
  "colab": {
   "collapsed_sections": [],
   "name": "Code_Hopfield_Networks.ipynb",
   "provenance": []
  },
  "kernelspec": {
   "display_name": "Python 3",
   "language": "python",
   "name": "python3"
  },
  "language_info": {
   "codemirror_mode": {
    "name": "ipython",
    "version": 3
   },
   "file_extension": ".py",
   "mimetype": "text/x-python",
   "name": "python",
   "nbconvert_exporter": "python",
   "pygments_lexer": "ipython3",
   "version": "3.7.3"
  }
 },
 "nbformat": 4,
 "nbformat_minor": 1
}
