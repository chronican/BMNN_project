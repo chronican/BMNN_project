{
 "cells": [
  {
   "cell_type": "markdown",
   "metadata": {},
   "source": [
    "# Miniproject: Hopfield networks\n",
    "### SCIPER: 308932"
   ]
  },
  {
   "cell_type": "code",
   "execution_count": 1,
   "metadata": {},
   "outputs": [],
   "source": [
    "# start with importing the libraries we need\n",
    "\n",
    "%matplotlib inline  \n",
    "import matplotlib.pyplot as plt\n",
    "import numpy as np\n",
    "from neurodynex3.hopfield_network import pattern_tools, plot_tools, network\n",
    "import neurodynex3.hopfield_network.pattern_tools as tools"
   ]
  },
  {
   "cell_type": "markdown",
   "metadata": {},
   "source": [
    "## 1 Theory questions"
   ]
  },
  {
   "cell_type": "markdown",
   "metadata": {},
   "source": [
    "## 2 Capacity"
   ]
  },
  {
   "cell_type": "markdown",
   "metadata": {},
   "source": [
    "**Question 2.2**: Firstly, we use the alternative more efficient way to store the patterns and compare it with the neurodynex version"
   ]
  },
  {
   "cell_type": "code",
   "execution_count": 2,
   "metadata": {},
   "outputs": [],
   "source": [
    "class Hopfield_fast(network.HopfieldNetwork):\n",
    "    def __init__(self, nr_neurons):\n",
    "        super().__init__(nr_neurons)\n",
    "    \n",
    "    def store_patterns(self, pattern_list):\n",
    "        # check if the input is a list or a numpy array\n",
    "        if type(pattern_list) == list:\n",
    "            pattern_list = np.array(pattern_list)\n",
    "        pattern_list = pattern_list.reshape(pattern_list.shape[0],-1)\n",
    "        pattern_size = pattern_list.shape[1]\n",
    "        # fill in the following line for make the Hopfield_fast class to run\n",
    "        self.weights = 1 / pattern_size  * np.einsum('mn,nk->mk', pattern_list.T, pattern_list) \n",
    "        np.fill_diagonal(self.weights, 0)"
   ]
  },
  {
   "cell_type": "code",
   "execution_count": 3,
   "metadata": {},
   "outputs": [
    {
     "data": {
      "image/png": "[encoded data removed]",
      "text/plain": [
       "<Figure size 432x288 with 10 Axes>"
      ]
     },
     "metadata": {
      "needs_background": "light"
     },
     "output_type": "display_data"
    },
    {
     "name": "stdout",
     "output_type": "stream",
     "text": [
      "All the weights are the same:  True\n"
     ]
    }
   ],
   "source": [
    "# Before you continue test that your weights are correct (compare with the neurodynex version)\n",
    "\n",
    "## we define the number of patterns as 10 to do a test\n",
    "nr_patterns = 10 \n",
    "## pattern size should be the square root of number of neurons\n",
    "pattern_size = 10\n",
    "\n",
    "## create an instance of the class HopfieldNetwork by neurodynex version\n",
    "hopfield_net_class = network.HopfieldNetwork(nr_neurons= pattern_size**2)\n",
    "## create an instance of the fast HopfieldNetwork by we defined above.\n",
    "hopfield_net_fast=Hopfield_fast(nr_neurons=pattern_size**2)\n",
    "\n",
    "## instantiate a pattern factory\n",
    "factory = pattern_tools.PatternFactory(pattern_size, pattern_size)\n",
    "\n",
    "## Create the random patterns \n",
    "pattern_list = factory.create_random_pattern_list(nr_patterns, on_probability=0.5)\n",
    "plot_tools.plot_pattern_list(pattern_list)\n",
    "\n",
    "## let the hopfield network \"learn\" the patterns. \n",
    "hopfield_net_class.store_patterns(pattern_list)\n",
    "hopfield_net_fast.store_patterns(pattern_list)\n",
    "\n",
    "## test that your weights are correct (compare with the neurodynex version)\n",
    "assert (hopfield_net_class.weights==hopfield_net_fast.weights).all()\n",
    "print('All the weights are the same: ', (hopfield_net_class.weights==hopfield_net_fast.weights).all())"
   ]
  },
  {
   "cell_type": "markdown",
   "metadata": {},
   "source": [
    "**Question 2.2**: Then, we can plot the probability for pattern p1 to be effectively stored decreases with the number of patterns P. We make the plot for these two hopfield networks and we can compare these results"
   ]
  },
  {
   "cell_type": "code",
   "execution_count": 4,
   "metadata": {},
   "outputs": [],
   "source": [
    "# initializa some parameters\n",
    "\n",
    "## pattern size should be the square root of number of neurons\n",
    "pattern_size = 10\n",
    "## times for run the hopfield_net, generate many random Hopfield networks to estimate the probability.\n",
    "simulation_times_run_script=10000\n",
    "## numpy array about number of patterns\n",
    "pattern_iter=np.arange(1,101,1)"
   ]
  },
  {
   "cell_type": "code",
   "execution_count": 5,
   "metadata": {},
   "outputs": [],
   "source": [
    "def calculate_probability(Network_type, pattern_iter, pattern_size, simulation_times_run_script):\n",
    "    probability_results=np.zeros(pattern_iter.shape)\n",
    "    \n",
    "    for pattern_num, x in zip(pattern_iter, range(pattern_iter.shape[0])):\n",
    "        \n",
    "        ##create an instance of the class HopfieldNetwork\n",
    "        if Network_type=='class':\n",
    "            hopfield_net = network.HopfieldNetwork(nr_neurons= pattern_size**2)\n",
    "        elif Network_type=='fast':\n",
    "            hopfield_net = Hopfield_fast(nr_neurons= pattern_size**2)\n",
    "        else:\n",
    "            print(\" network type error\")\n",
    "            \n",
    "        ## instantiate a pattern factory\n",
    "        factory = pattern_tools.PatternFactory(pattern_size, pattern_size)\n",
    "        ## define a calculator\n",
    "        idx=0\n",
    "        \n",
    "        for i in range(simulation_times_run_script):\n",
    "            ## Create the random patterns \n",
    "            pattern_list=factory.create_random_pattern_list(nr_patterns=pattern_num, on_probability=0.5)\n",
    "            ## let the hopfield network \"learn\" the patterns. \n",
    "            hopfield_net.store_patterns(pattern_list)\n",
    "            ## initialize with original pattern\n",
    "            hopfield_net.set_state_from_pattern(pattern_list[0])\n",
    "            ## from this initial state, let the network dynamics evolve. Because we fix the time steps as 5, so the number there is 5-4=1\n",
    "            states = hopfield_net.run_with_monitoring(nr_steps=4)\n",
    "            ## reshape the network to the same shape used to create the patterns.\n",
    "            states_as_patterns = factory.reshape_patterns(states)\n",
    "            \n",
    "            # Calculate the overlap \n",
    "            overlaps_list = pattern_tools.compute_overlap_list(pattern_list[0], states_as_patterns)\n",
    "            if overlaps_list[len(overlaps_list)-1] >= 0.99:\n",
    "                idx += 1\n",
    "        probability_results[x]=idx/simulation_times_run_script\n",
    "    return probability_results        "
   ]
  },
  {
   "cell_type": "code",
   "execution_count": null,
   "metadata": {},
   "outputs": [],
   "source": [
    "probability_fast=calculate_probability(\"fast\",pattern_iter,pattern_size, simulation_times_run_script)\n",
    "probability_class=calculate_probability(\"class\",pattern_iter,pattern_size, simulation_times_run_script)"
   ]
  },
  {
   "cell_type": "code",
   "execution_count": null,
   "metadata": {},
   "outputs": [],
   "source": [
    "#def plot_prob_patterns(pattern_iter,probability_fast):\n",
    "    \n",
    "    "
   ]
  },
  {
   "cell_type": "code",
   "execution_count": null,
   "metadata": {},
   "outputs": [],
   "source": []
  },
  {
   "cell_type": "markdown",
   "metadata": {},
   "source": [
    "## 3 From binary neurons to saturated rectified linear neurons."
   ]
  },
  {
   "cell_type": "markdown",
   "metadata": {},
   "source": [
    "**Question 3.1:** the graph of function g for $\\beta =1$"
   ]
  },
  {
   "cell_type": "code",
   "execution_count": 8,
   "metadata": {},
   "outputs": [],
   "source": [
    "# define the gain function with beta=1\n",
    "def g(beta,h):\n",
    "    out=np.minimum(1, np.maximum(-1, beta*h))\n",
    "    return out\n",
    "\n",
    "# assign the values of x-axis and y-axis\n",
    "gx_values=np.linspace(-5, 5, 100)\n",
    "gy_values=[g(1,i) for i in gx_values]"
   ]
  },
  {
   "cell_type": "code",
   "execution_count": 9,
   "metadata": {},
   "outputs": [
    {
     "data": {
      "image/png": "[encoded data removed]",
      "text/plain": [
       "<Figure size 432x288 with 1 Axes>"
      ]
     },
     "metadata": {
      "needs_background": "light"
     },
     "output_type": "display_data"
    }
   ],
   "source": [
    "# plot the g function\n",
    "plt.figure()\n",
    "plt.plot(gx_values, gy_values)\n",
    "plt.xlabel('h')\n",
    "plt.ylabel('g(h)')\n",
    "plt.title('Gain function for beta = 1')\n",
    "plt.grid(True)"
   ]
  },
  {
   "cell_type": "markdown",
   "metadata": {},
   "source": [
    "**Question 3.2:**  theory questions"
   ]
  },
  {
   "cell_type": "markdown",
   "metadata": {},
   "source": [
    "**Question 3.3:**  In this question, we need to consider the influence of steepness $\\beta$ on the capacity of network. So, we plot the capacity as a function of $\\beta$"
   ]
  },
  {
   "cell_type": "code",
   "execution_count": null,
   "metadata": {},
   "outputs": [],
   "source": []
  },
  {
   "cell_type": "markdown",
   "metadata": {},
   "source": [
    "## 4 Correlated patterns"
   ]
  },
  {
   "cell_type": "code",
   "execution_count": null,
   "metadata": {},
   "outputs": [],
   "source": []
  },
  {
   "cell_type": "markdown",
   "metadata": {},
   "source": [
    "# In order to use the class, complete the code and fill the question marks"
   ]
  },
  {
   "cell_type": "code",
   "execution_count": null,
   "metadata": {},
   "outputs": [],
   "source": [
    "# Alternative more efficient way store the patterns\n",
    "\n",
    "class Hopfield_fast(network.HopfieldNetwork):\n",
    "    def __init__(self, nr_neurons):\n",
    "        super().__init__(nr_neurons)\n",
    "    \n",
    "    def store_patterns(self, pattern_list):\n",
    "        # check if the input is a list or a numpy array\n",
    "        if type(pattern_list) == list:\n",
    "            pattern_list = np.array(pattern_list)\n",
    "        pattern_list = pattern_list.reshape(pattern_list.shape[0],-1)\n",
    "        pattern_size = pattern_list.shape[1]\n",
    "        # fill in the following line for make the Hopfield_fast class to run\n",
    "        self.weights = 1 / pattern_size  * np.einsum('?,?->?', ?, ?) \n",
    "        np.fill_diagonal(self.weights, 0)\n",
    "        "
   ]
  },
  {
   "cell_type": "code",
   "execution_count": null,
   "metadata": {},
   "outputs": [],
   "source": [
    "# Before you continue test that your weights are correct (compare with the neurodynex version)\n",
    "nr_patterns = ?\n",
    "pattern_size = ? \n",
    "\n",
    "print('All the weights are the same', ??)"
   ]
  },
  {
   "cell_type": "code",
   "execution_count": null,
   "metadata": {},
   "outputs": [],
   "source": []
  }
 ],
 "metadata": {
  "kernelspec": {
   "display_name": "Python 3",
   "language": "python",
   "name": "python3"
  },
  "language_info": {
   "codemirror_mode": {
    "name": "ipython",
    "version": 3
   },
   "file_extension": ".py",
   "mimetype": "text/x-python",
   "name": "python",
   "nbconvert_exporter": "python",
   "pygments_lexer": "ipython3",
   "version": "3.7.3"
  }
 },
 "nbformat": 4,
 "nbformat_minor": 4
}
