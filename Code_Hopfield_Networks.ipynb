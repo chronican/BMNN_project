{
 "cells": [
  {
   "cell_type": "markdown",
   "metadata": {
    "id": "FWnJZcKZd9Ye"
   },
   "source": [
    "# Miniproject: Hopfield networks\n",
    "### SCIPER: 308932, 322643"
   ]
  },
  {
   "cell_type": "code",
   "execution_count": null,
   "metadata": {
    "id": "AJSHDHG_HBQi"
   },
   "outputs": [],
   "source": [
    "#!pip install neurodynex3"
   ]
  },
  {
   "cell_type": "code",
   "execution_count": null,
   "metadata": {
    "id": "7B9Dh_Zjd9Yf"
   },
   "outputs": [],
   "source": [
    "# start with importing the libraries we need\n",
    "\n",
    "%matplotlib inline  \n",
    "import matplotlib.pyplot as plt\n",
    "import seaborn as sns\n",
    "sns.set()\n",
    "import sympy, math\n",
    "from sympy import *\n",
    "import pandas as pd\n",
    "import numpy as np\n",
    "from neurodynex3.hopfield_network import pattern_tools, plot_tools, network\n",
    "import neurodynex3.hopfield_network.pattern_tools as tools"
   ]
  },
  {
   "cell_type": "markdown",
   "metadata": {
    "id": "IMWWgIo8d9Yg"
   },
   "source": [
    "## 1 Theory questions"
   ]
  },
  {
   "cell_type": "markdown",
   "metadata": {
    "id": "O-02bkbjd9Yg"
   },
   "source": [
    "## 2 Capacity"
   ]
  },
  {
   "cell_type": "markdown",
   "metadata": {
    "id": "rB_rIQs4d9Yh"
   },
   "source": [
    "**Question 2.2**: Firstly, we use the alternative more efficient way to store the patterns and compare it with the neurodynex version"
   ]
  },
  {
   "cell_type": "code",
   "execution_count": null,
   "metadata": {
    "id": "Ajymx8zPd9Yh"
   },
   "outputs": [],
   "source": [
    "class Hopfield_fast(network.HopfieldNetwork):\n",
    "    def __init__(self, nr_neurons):\n",
    "        super().__init__(nr_neurons)\n",
    "    \n",
    "    def store_patterns(self, pattern_list):\n",
    "        # check if the input is a list or a numpy array\n",
    "        if type(pattern_list) == list:\n",
    "            pattern_list = np.array(pattern_list)\n",
    "        pattern_list = pattern_list.reshape(pattern_list.shape[0],-1)\n",
    "        pattern_size = pattern_list.shape[1]\n",
    "        # fill in the following line for make the Hopfield_fast class to run\n",
    "        self.weights = 1 / pattern_size  * np.einsum('mn,nk->mk', pattern_list.T, pattern_list) \n",
    "        np.fill_diagonal(self.weights, 0)"
   ]
  },
  {
   "cell_type": "code",
   "execution_count": null,
   "metadata": {
    "colab": {
     "base_uri": "https://localhost:8080/",
     "height": 92
    },
    "id": "neeWCNvCd9Yi",
    "outputId": "c2f7d124-e532-484d-fce3-9fa64a9ac935"
   },
   "outputs": [
    {
     "data": {
      "image/png": "[encoded data removed]",
      "text/plain": [
       "<Figure size 432x288 with 10 Axes>"
      ]
     },
     "metadata": {
      "tags": []
     },
     "output_type": "display_data"
    },
    {
     "name": "stdout",
     "output_type": "stream",
     "text": [
      "All the weights are the same:  True\n"
     ]
    }
   ],
   "source": [
    "# Before you continue test that your weights are correct (compare with the neurodynex version)\n",
    "\n",
    "## we define the number of patterns as 10 to do a test\n",
    "nr_patterns = 10 \n",
    "## pattern size should be the square root of number of neurons\n",
    "pattern_size = 10\n",
    "\n",
    "## create an instance of the class HopfieldNetwork by neurodynex version\n",
    "hopfield_net_class = network.HopfieldNetwork(nr_neurons= pattern_size**2)\n",
    "## create an instance of the fast HopfieldNetwork by we defined above.\n",
    "hopfield_net_fast=Hopfield_fast(nr_neurons=pattern_size**2)\n",
    "\n",
    "## instantiate a pattern factory\n",
    "factory = pattern_tools.PatternFactory(pattern_size, pattern_size)\n",
    "\n",
    "## Create the random patterns \n",
    "pattern_list = factory.create_random_pattern_list(nr_patterns, on_probability=0.5)\n",
    "plot_tools.plot_pattern_list(pattern_list)\n",
    "\n",
    "## let the hopfield network \"learn\" the patterns. \n",
    "hopfield_net_class.store_patterns(pattern_list)\n",
    "hopfield_net_fast.store_patterns(pattern_list)\n",
    "\n",
    "## test that your weights are correct (compare with the neurodynex version)\n",
    "assert (hopfield_net_class.weights==hopfield_net_fast.weights).all()\n",
    "print('All the weights are the same: ', (hopfield_net_class.weights==hopfield_net_fast.weights).all())"
   ]
  },
  {
   "cell_type": "markdown",
   "metadata": {
    "id": "6skCqjVZd9Yj"
   },
   "source": [
    "**Question 2.2**: Then, we can plot the probability for pattern p1 to be effectively stored decreases with the number of patterns P. "
   ]
  },
  {
   "cell_type": "code",
   "execution_count": null,
   "metadata": {
    "id": "ZqmeNpWGd9Yj"
   },
   "outputs": [],
   "source": [
    "# initializa some parameters\n",
    "## pattern size should be the square root of number of neurons\n",
    "pattern_size = 10\n",
    "## times for run the hopfield_net, generate many random Hopfield networks to estimate the probability.\n",
    "simulation_times_run_script=10000\n",
    "## numpy array about number of patterns\n",
    "pattern_iter=np.arange(1,101,1)"
   ]
  },
  {
   "cell_type": "code",
   "execution_count": null,
   "metadata": {
    "id": "dEJogX0kd9Yj"
   },
   "outputs": [],
   "source": [
    "def calculate_probability(pattern_iter, pattern_size, simulation_times_run_script):\n",
    "    probability_results=np.zeros(pattern_iter.shape)\n",
    "    \n",
    "    for pattern_num, x in zip(pattern_iter, range(pattern_iter.shape[0])):\n",
    "        \n",
    "        ##create an instance of the class HopfieldNetwork\n",
    "\n",
    "        hopfield_net = Hopfield_fast(nr_neurons= pattern_size**2)\n",
    "        ## instantiate a pattern factory\n",
    "        factory = pattern_tools.PatternFactory(pattern_size, pattern_size)\n",
    "        ## define a calculator\n",
    "        idx=0\n",
    "        \n",
    "        for i in range(simulation_times_run_script):\n",
    "            ## Create the random patterns \n",
    "            pattern_list=[]\n",
    "            pattern_list.extend(factory.create_random_pattern_list(nr_patterns=pattern_num, on_probability=0.5))\n",
    "            ## let the hopfield network \"learn\" the patterns. \n",
    "            hopfield_net.store_patterns(pattern_list)\n",
    "            ## initialize with original pattern\n",
    "            hopfield_net.set_state_from_pattern(pattern_list[0])\n",
    "            ## from this initial state, let the network dynamics evolve.\n",
    "            states = hopfield_net.run_with_monitoring(nr_steps=5)\n",
    "            ## reshape the network to the same shape used to create the patterns.\n",
    "            states_as_patterns = factory.reshape_patterns(states)\n",
    "            \n",
    "            # Calculate the overlap \n",
    "            overlaps_list = pattern_tools.compute_overlap_list(states_as_patterns[-1], pattern_list)\n",
    "            if (np.argmax(overlaps_list) == 0):\n",
    "                idx += 1\n",
    "        \n",
    "        probability_results[x]=idx/simulation_times_run_script\n",
    "        print(\"Probability with\", pattern_num, \"is\", probability_results[x])\n",
    "    return probability_results        "
   ]
  },
  {
   "cell_type": "code",
   "execution_count": null,
   "metadata": {
    "colab": {
     "base_uri": "https://localhost:8080/"
    },
    "id": "muETJPudd9Yk",
    "outputId": "da67cf35-bcab-4d88-cdea-4b6fa3e62e8f"
   },
   "outputs": [
    {
     "name": "stdout",
     "output_type": "stream",
     "text": [
      "Probability with 1 is 1.0\n",
      "Probability with 2 is 1.0\n",
      "Probability with 3 is 1.0\n",
      "Probability with 4 is 1.0\n",
      "Probability with 5 is 1.0\n",
      "Probability with 6 is 1.0\n",
      "Probability with 7 is 1.0\n",
      "Probability with 8 is 1.0\n",
      "Probability with 9 is 1.0\n",
      "Probability with 10 is 1.0\n",
      "Probability with 11 is 0.9999\n",
      "Probability with 12 is 1.0\n",
      "Probability with 13 is 1.0\n",
      "Probability with 14 is 0.9997\n",
      "Probability with 15 is 0.9989\n",
      "Probability with 16 is 0.999\n",
      "Probability with 17 is 0.9987\n",
      "Probability with 18 is 0.9983\n",
      "Probability with 19 is 0.9969\n",
      "Probability with 20 is 0.9962\n",
      "Probability with 21 is 0.9924\n",
      "Probability with 22 is 0.9931\n",
      "Probability with 23 is 0.9905\n",
      "Probability with 24 is 0.9868\n",
      "Probability with 25 is 0.9842\n",
      "Probability with 26 is 0.9827\n",
      "Probability with 27 is 0.9794\n",
      "Probability with 28 is 0.9751\n",
      "Probability with 29 is 0.9672\n",
      "Probability with 30 is 0.9645\n",
      "Probability with 31 is 0.956\n",
      "Probability with 32 is 0.9514\n",
      "Probability with 33 is 0.9463\n",
      "Probability with 34 is 0.9447\n",
      "Probability with 35 is 0.9322\n",
      "Probability with 36 is 0.9276\n",
      "Probability with 37 is 0.9243\n",
      "Probability with 38 is 0.9159\n",
      "Probability with 39 is 0.9072\n",
      "Probability with 40 is 0.8989\n",
      "Probability with 41 is 0.8988\n",
      "Probability with 42 is 0.8932\n",
      "Probability with 43 is 0.8844\n",
      "Probability with 44 is 0.8768\n",
      "Probability with 45 is 0.8793\n",
      "Probability with 46 is 0.87\n",
      "Probability with 47 is 0.8607\n",
      "Probability with 48 is 0.8548\n",
      "Probability with 49 is 0.8524\n",
      "Probability with 50 is 0.8448\n",
      "Probability with 51 is 0.8431\n",
      "Probability with 52 is 0.8333\n",
      "Probability with 53 is 0.8332\n",
      "Probability with 54 is 0.8232\n",
      "Probability with 55 is 0.8238\n",
      "Probability with 56 is 0.8223\n",
      "Probability with 57 is 0.8067\n",
      "Probability with 58 is 0.8069\n",
      "Probability with 59 is 0.8124\n",
      "Probability with 60 is 0.8055\n",
      "Probability with 61 is 0.7961\n",
      "Probability with 62 is 0.7933\n",
      "Probability with 63 is 0.7942\n",
      "Probability with 64 is 0.7851\n",
      "Probability with 65 is 0.7801\n",
      "Probability with 66 is 0.7807\n",
      "Probability with 67 is 0.781\n",
      "Probability with 68 is 0.7738\n",
      "Probability with 69 is 0.7711\n",
      "Probability with 70 is 0.7622\n",
      "Probability with 71 is 0.7671\n",
      "Probability with 72 is 0.7625\n",
      "Probability with 73 is 0.7562\n",
      "Probability with 74 is 0.7536\n",
      "Probability with 75 is 0.7526\n",
      "Probability with 76 is 0.7447\n",
      "Probability with 77 is 0.7421\n",
      "Probability with 78 is 0.741\n",
      "Probability with 79 is 0.7426\n",
      "Probability with 80 is 0.7424\n",
      "Probability with 81 is 0.7384\n",
      "Probability with 82 is 0.7289\n",
      "Probability with 83 is 0.7291\n",
      "Probability with 84 is 0.7321\n",
      "Probability with 85 is 0.7369\n",
      "Probability with 86 is 0.7263\n",
      "Probability with 87 is 0.7268\n",
      "Probability with 88 is 0.7218\n",
      "Probability with 89 is 0.7238\n",
      "Probability with 90 is 0.7162\n",
      "Probability with 91 is 0.7179\n",
      "Probability with 92 is 0.7111\n",
      "Probability with 93 is 0.7064\n",
      "Probability with 94 is 0.7043\n",
      "Probability with 95 is 0.7062\n",
      "Probability with 96 is 0.7135\n",
      "Probability with 97 is 0.7044\n",
      "Probability with 98 is 0.702\n",
      "Probability with 99 is 0.7029\n",
      "Probability with 100 is 0.6949\n"
     ]
    }
   ],
   "source": [
    "probability=calculate_probability(pattern_iter,pattern_size, simulation_times_run_script)"
   ]
  },
  {
   "cell_type": "code",
   "execution_count": null,
   "metadata": {
    "colab": {
     "base_uri": "https://localhost:8080/",
     "height": 301
    },
    "id": "Kej0KQKXsD9x",
    "outputId": "323d26f1-6409-46d1-c36b-79b2fd7262ea"
   },
   "outputs": [
    {
     "data": {
      "image/png": "[encoded data removed]",
      "text/plain": [
       "<Figure size 432x288 with 1 Axes>"
      ]
     },
     "metadata": {
      "tags": []
     },
     "output_type": "display_data"
    }
   ],
   "source": [
    "prob_fast_plot = pd.DataFrame({\"number of patterns\":pattern_iter, \"probability\":probability})\n",
    "sns.scatterplot(x = \"number of patterns\", y = \"probability\", data=prob_fast_plot)\n",
    "sns.set(style='darkgrid',)\n",
    "plt.title(\"Probability of effectively storing pattern p1 for Hopfileld Network\")\n",
    "plt.show()"
   ]
  },
  {
   "cell_type": "markdown",
   "metadata": {
    "id": "knHKJPsPd9Yl"
   },
   "source": [
    "* Question 2.3 : In this part, we first calculate the empirical capacity and then compare with theoretical capacity"
   ]
  },
  {
   "cell_type": "code",
   "execution_count": null,
   "metadata": {
    "colab": {
     "base_uri": "https://localhost:8080/"
    },
    "id": "g9bN8pb0kanz",
    "outputId": "4354206e-effd-446a-a693-7b370a20035c"
   },
   "outputs": [
    {
     "name": "stdout",
     "output_type": "stream",
     "text": [
      "the empirical capacity is: 0.23\n",
      "0.983790458590774\n",
      "the theoretical capacity is: 0.18\n"
     ]
    }
   ],
   "source": [
    "# the empirical capacity\n",
    "C_em=sum(probability>=0.99)/100\n",
    "print(\"the empirical capacity is:\", C_em)\n",
    "\n",
    "# the theoretical capacity\n",
    "## firstly, we want to the erf value is above 1-2/N=0.98.\n",
    "## according to the function we find that the erf(1.7)>=0.98\n",
    "x = Symbol('x')\n",
    "f=exp(-x**2)*2/(math.sqrt(math.pi))\n",
    "inte_part=integrate(f, (x, 0, 1.7)).evalf()\n",
    "print(inte_part)\n",
    "\n",
    "## So we calculete the theoretical capacity:\n",
    "C_th=math.floor((100/(1.7*1.7*2)+1))/100\n",
    "print(\"the theoretical capacity is:\", C_th)\n"
   ]
  },
  {
   "cell_type": "markdown",
   "metadata": {
    "id": "L113JbmLd9Yl"
   },
   "source": [
    "## 3 From binary neurons to saturated rectified linear neurons."
   ]
  },
  {
   "cell_type": "markdown",
   "metadata": {
    "id": "sgG4K_v1d9Yl"
   },
   "source": [
    "**Question 3.1:** the graph of function g for $\\beta =1$"
   ]
  },
  {
   "cell_type": "code",
   "execution_count": null,
   "metadata": {
    "id": "CLmMmA9Rd9Yl"
   },
   "outputs": [],
   "source": [
    "# define the gain function with beta=1\n",
    "def g(beta,h):\n",
    "    out=np.minimum(1, np.maximum(-1, beta*h))\n",
    "    return out\n",
    "\n",
    "# assign the values of x-axis and y-axis\n",
    "gx_values=np.linspace(-5, 5, 100)\n",
    "gy_values=[g(1,i) for i in gx_values]\n",
    "g_func_plot=pd.DataFrame({\"h\":gx_values, \"g(h)\":gy_values})"
   ]
  },
  {
   "cell_type": "code",
   "execution_count": null,
   "metadata": {
    "colab": {
     "base_uri": "https://localhost:8080/",
     "height": 301
    },
    "id": "mfstxRSed9Ym",
    "outputId": "66aa5321-e4e2-45af-86b0-a94f7ba1986f"
   },
   "outputs": [
    {
     "data": {
      "image/png": "[encoded data removed]",
      "text/plain": [
       "<Figure size 432x288 with 1 Axes>"
      ]
     },
     "metadata": {
      "tags": []
     },
     "output_type": "display_data"
    }
   ],
   "source": [
    "# plot the g function\n",
    "sns.lineplot(x = \"h\", y = \"g(h)\", data=g_func_plot)\n",
    "plt.title('Gain function for beta = 1')\n",
    "plt.show()"
   ]
  },
  {
   "cell_type": "markdown",
   "metadata": {
    "id": "M3Cm_pMTd9Ym"
   },
   "source": [
    "**Question 3.2:**  theory questions"
   ]
  },
  {
   "cell_type": "markdown",
   "metadata": {
    "id": "BxQxHRyKd9Ym"
   },
   "source": [
    "**Question 3.3:**  In this question, we need to consider the influence of steepness $\\beta$ on the capacity of network. So, we plot the capacity as a function of $\\beta$ . "
   ]
  },
  {
   "cell_type": "code",
   "execution_count": null,
   "metadata": {
    "id": "jSF9hFM6d9Yn"
   },
   "outputs": [],
   "source": [
    "#firstly, we define the synchronize update function:\n",
    "def beta_update_synchronize(beta):\n",
    "    def network_update(state_s0, weights):\n",
    "        h = np.sum(weights * state_s0, axis=1)\n",
    "        g_h= np.minimum(1, np.maximum(-1, beta*h))\n",
    "        state_s1=np.ones(g_h.shape)\n",
    "        rand = np.random.uniform(0,1, g_h.shape)\n",
    "        idx = g_h <= rand\n",
    "        state_s1[idx] = -1\n",
    "        return state_s1\n",
    "    return network_update\n",
    "\n",
    "\n",
    "## reference the homework solution: https://moodle.epfl.ch/pluginfile.php/2897801/mod_resource/content/1/solution_hopfield_network.ipynb\n",
    "def beta_update_asynchronous(beta):\n",
    "    def network_update(state_s0, weights):\n",
    "        random_neuron_idx_list = np.random.permutation(len(state_s0))\n",
    "        state_s1 = state_s0.copy()\n",
    "        for i in range(len(random_neuron_idx_list)):\n",
    "            rand_neuron_i = random_neuron_idx_list[i]\n",
    "            h_i = np.dot(weights[:, rand_neuron_i], state_s1)\n",
    "            prop_state_s1_on=np.minimum(1, np.maximum(-1, beta*h_i))\n",
    "            state_s1[rand_neuron_i] = 1 if prop_state_s1_on > np.random.rand() else -1 \n",
    "        return state_s1\n",
    "    return network_update\n",
    "\n",
    "def calculate_capacity(pattern_iter, pattern_size, simulation_times_run_script, betas, N, update_mode):\n",
    "    capacity_results=np.zeros(betas.shape)\n",
    "    for b, x in zip(betas, range(betas.shape[0])):\n",
    "        probability_results=np.zeros(pattern_iter.shape)\n",
    "        for pattern_num, y in zip(pattern_iter, range(pattern_iter.shape[0])):\n",
    "            # create an instance of the fast HopfieldNetwork\n",
    "            hopfield_net = Hopfield_fast(nr_neurons= pattern_size**2)\n",
    "            # set the update function\n",
    "            if (update_mode==\"synchronize\"):\n",
    "                hopfield_net.set_dynamics_to_user_function(beta_update_synchronize(beta=b))\n",
    "            elif (update_mode==\"asynchronous\"):\n",
    "                hopfield_net.set_dynamics_to_user_function(beta_update_asynchronous(beta=b))\n",
    "            #instantiate a pattern factory\n",
    "            factory = pattern_tools.PatternFactory(pattern_size, pattern_size)\n",
    "            ## define a calculator\n",
    "            idx=0\n",
    "                   \n",
    "            for i in range(simulation_times_run_script):\n",
    "                ## Create the random patterns \n",
    "                pattern_list=[]\n",
    "                pattern_list.extend(factory.create_random_pattern_list(nr_patterns=pattern_num, on_probability=0.5))\n",
    "                ## let the hopfield network \"learn\" the patterns. \n",
    "                hopfield_net.store_patterns(pattern_list)\n",
    "                ## initialize with original pattern\n",
    "                hopfield_net.set_state_from_pattern(pattern_list[0])\n",
    "                ## from this initial state, let the network dynamics evolve. \n",
    "                states = hopfield_net.run_with_monitoring(nr_steps=5)\n",
    "                ## reshape the network to the same shape used to create the patterns.\n",
    "                states_as_patterns = factory.reshape_patterns(states)\n",
    "                   \n",
    "                overlap_list = pattern_tools.compute_overlap_list(states_as_patterns[-1], pattern_list)\n",
    "                if (np.argmax(overlap_list) == 0): \n",
    "                    idx += 1\n",
    "                   \n",
    "            probability_results[y]=idx/simulation_times_run_script\n",
    "        capacity_results[x]=sum(probability_results>=0.99)/N\n",
    "        print('Beta='+str(b)+', Capacity='+str(capacity_results[x]))\n",
    "    return capacity_results    \n"
   ]
  },
  {
   "cell_type": "code",
   "execution_count": null,
   "metadata": {
    "colab": {
     "base_uri": "https://localhost:8080/"
    },
    "id": "F3lIlgOMd9Yn",
    "outputId": "361b254b-18a3-44d9-87cc-6ea3fb4fa8f5"
   },
   "outputs": [
    {
     "name": "stdout",
     "output_type": "stream",
     "text": [
      "[ 1  3  6  9 12 15 18 21 24 27 30]\n"
     ]
    }
   ],
   "source": [
    "# Next, we define the initialize the beta value and patterns number list value\n",
    "betas=np.arange(0,33,3)\n",
    "betas[0]=1\n",
    "print(betas)\n",
    "pattern_iter=np.arange(1,100,1)\n",
    "\n",
    "#betas=np.arange(1,31,1)\n",
    "#pattern_iter=np.array([1,10,20,30,40,50,60,70,80,90,100])\n",
    "# define the other parameters:\n",
    "simulation_times_run_script=2000\n",
    "pattern_size=10\n",
    "N=100\n"
   ]
  },
  {
   "cell_type": "code",
   "execution_count": null,
   "metadata": {
    "colab": {
     "base_uri": "https://localhost:8080/"
    },
    "id": "hzw9NSMsd9Yo",
    "outputId": "434c7677-0f3e-4bee-b9f5-ad6b45c3e788"
   },
   "outputs": [
    {
     "name": "stdout",
     "output_type": "stream",
     "text": [
      "Beta=1, Capacity=0.01\n",
      "Beta=3, Capacity=0.19\n",
      "Beta=6, Capacity=0.23\n",
      "Beta=9, Capacity=0.23\n",
      "Beta=12, Capacity=0.24\n",
      "Beta=15, Capacity=0.22\n",
      "Beta=18, Capacity=0.23\n",
      "Beta=21, Capacity=0.23\n",
      "Beta=24, Capacity=0.24\n",
      "Beta=27, Capacity=0.23\n",
      "Beta=30, Capacity=0.23\n"
     ]
    }
   ],
   "source": [
    "capacity_results=calculate_capacity(pattern_iter, pattern_size, simulation_times_run_script, betas, N, \"synchronize\")"
   ]
  },
  {
   "cell_type": "code",
   "execution_count": null,
   "metadata": {
    "colab": {
     "base_uri": "https://localhost:8080/",
     "height": 301
    },
    "id": "QjoDU9Zr-npt",
    "outputId": "6e6712c6-a0a6-41ec-c381-3e24567c6cb5"
   },
   "outputs": [
    {
     "data": {
      "image/png": "[encoded data removed]",
      "text/plain": [
       "<Figure size 432x288 with 1 Axes>"
      ]
     },
     "metadata": {
      "tags": []
     },
     "output_type": "display_data"
    }
   ],
   "source": [
    "func_beta_plot=pd.DataFrame({\"Betas\":betas, \"Capacity\":capacity_results})\n",
    "sns.lineplot(x = \"Betas\", y = \"Capacity\", data=func_beta_plot)\n",
    "plt.title('beta value influence on capacity by synchronize update ')\n",
    "plt.show()\n"
   ]
  },
  {
   "cell_type": "code",
   "execution_count": null,
   "metadata": {
    "colab": {
     "base_uri": "https://localhost:8080/"
    },
    "id": "ug_Rn-9iNmsV",
    "outputId": "54cfbc96-3f90-4144-8ce0-d72675c3ed10"
   },
   "outputs": [
    {
     "name": "stdout",
     "output_type": "stream",
     "text": [
      "Beta=1, Capacity=0.01\n",
      "Beta=3, Capacity=0.12\n",
      "Beta=6, Capacity=0.15\n",
      "Beta=9, Capacity=0.15\n",
      "Beta=12, Capacity=0.16\n",
      "Beta=15, Capacity=0.16\n",
      "Beta=18, Capacity=0.16\n",
      "Beta=21, Capacity=0.15\n",
      "Beta=24, Capacity=0.16\n",
      "Beta=27, Capacity=0.16\n",
      "Beta=30, Capacity=0.16\n"
     ]
    }
   ],
   "source": [
    "capacity_results_asynchronous=calculate_capacity(pattern_iter, pattern_size, simulation_times_run_script, betas, N, \"asynchronous\")"
   ]
  },
  {
   "cell_type": "code",
   "execution_count": null,
   "metadata": {
    "colab": {
     "base_uri": "https://localhost:8080/",
     "height": 301
    },
    "id": "IIoe9E-sNzQZ",
    "outputId": "e454d949-086b-4f73-fa40-09269fbc6c92"
   },
   "outputs": [
    {
     "data": {
      "image/png": "[encoded data removed]",
      "text/plain": [
       "<Figure size 432x288 with 1 Axes>"
      ]
     },
     "metadata": {
      "tags": []
     },
     "output_type": "display_data"
    }
   ],
   "source": [
    "func_beta_plot_as=pd.DataFrame({\"Betas\":betas, \"Capacity\":capacity_results_asynchronous})\n",
    "sns.lineplot(x = \"Betas\", y = \"Capacity\", data=func_beta_plot_as)\n",
    "plt.title('beta value influence on capacity by asynchronous update ')\n",
    "plt.show()"
   ]
  },
  {
   "cell_type": "markdown",
   "metadata": {
    "id": "plyxzxWyHb5H"
   },
   "source": [
    "**Question 3.4 :** We plot the network dynamics with a small beta value 0.5 for the first random pattern and observe the evolution."
   ]
  },
  {
   "cell_type": "code",
   "execution_count": null,
   "metadata": {
    "colab": {
     "base_uri": "https://localhost:8080/",
     "height": 598
    },
    "id": "H5lxrYjv9MUQ",
    "outputId": "fb485d14-0788-422b-847a-b81dd91d57c4"
   },
   "outputs": [
    {
     "data": {
      "image/png": "[encoded data removed]",
      "text/plain": [
       "<Figure size 432x288 with 2 Axes>"
      ]
     },
     "metadata": {
      "tags": []
     },
     "output_type": "display_data"
    },
    {
     "name": "stdout",
     "output_type": "stream",
     "text": [
      "\n"
     ]
    },
    {
     "data": {
      "image/png": "[encoded data removed]",
      "text/plain": [
       "<Figure size 432x288 with 12 Axes>"
      ]
     },
     "metadata": {
      "tags": []
     },
     "output_type": "display_data"
    }
   ],
   "source": [
    "beta_ex = 0.5\n",
    "pattern_size = 10\n",
    "# create an instance of the fast HopfieldNetwork\n",
    "hopfield_net = Hopfield_fast(nr_neurons= pattern_size**2)\n",
    "# set the update function\n",
    "hopfield_net.set_dynamics_to_user_function(beta_update_asynchronous(beta=beta_ex))\n",
    "factory = pattern_tools.PatternFactory(pattern_size, pattern_size)\n",
    "pattern_list=factory.create_random_pattern_list(nr_patterns=10, on_probability=0.5)\n",
    "overlap_matrix = pattern_tools.compute_overlap_matrix(pattern_list)\n",
    "plot_tools.plot_overlap_matrix(overlap_matrix)\n",
    "hopfield_net.store_patterns(pattern_list)\n",
    "hopfield_net.set_state_from_pattern(pattern_list[0])\n",
    "states = hopfield_net.run_with_monitoring(nr_steps=5)\n",
    "states_as_patterns = factory.reshape_patterns(states)\n",
    "plot_tools.plot_state_sequence_and_overlap(states_as_patterns, pattern_list, reference_idx=0, suptitle=\"Network dynamics\") "
   ]
  },
  {
   "cell_type": "markdown",
   "metadata": {
    "id": "8M7wn2bFIWFK"
   },
   "source": [
    "**Question 3.5:** theory questions"
   ]
  },
  {
   "cell_type": "markdown",
   "metadata": {
    "id": "WFePet-Kd9Yp"
   },
   "source": [
    "## 4 Correlated patterns\n",
    "### Question 1\n",
    "In this part, we consider the effect of correlations among patterns on the capacity."
   ]
  },
  {
   "cell_type": "code",
   "execution_count": null,
   "metadata": {
    "id": "WeCEvIRYG354"
   },
   "outputs": [],
   "source": [
    "#Firstly, we define the corresponding parameters:\n",
    "## the pattern numbers\n",
    "pattern_iter=np.arange(1,101,1)\n",
    "## the k values\n",
    "ks=np.arange(0,100,10)\n",
    "## N=100 neurons\n",
    "N = 100\n",
    "## pattern size should be the square root of number of neurons\n",
    "pattern_size = 10\n",
    "simulation_times_run_script=2000"
   ]
  },
  {
   "cell_type": "code",
   "execution_count": null,
   "metadata": {
    "id": "ERcTA06bG355"
   },
   "outputs": [],
   "source": [
    "def correlated_patterns(pattern_list, k, pattern_size):\n",
    "    corr_pattern_list=[]\n",
    "    #all the other patterns should share the first k elements with the first patten\n",
    "    corr_pattern=pattern_list[0]\n",
    "    row_idx=k//pattern_size\n",
    "    column_idx=k%pattern_size\n",
    "    for pattern in pattern_list:\n",
    "        pattern[0:row_idx]=corr_pattern[0:row_idx]\n",
    "        pattern[row_idx,0:column_idx]=pattern[row_idx,0:column_idx]\n",
    "        corr_pattern_list.append(pattern)\n",
    "    return corr_pattern_list"
   ]
  },
  {
   "cell_type": "code",
   "execution_count": null,
   "metadata": {
    "id": "lPGzPo2hG355"
   },
   "outputs": [],
   "source": [
    "# then we define the function\n",
    "def calculate_capacity_for_correlation(pattern_iter, pattern_size, simulation_times_run_script, ks, N):\n",
    "    capacity_results=np.zeros(ks.shape)\n",
    "    for k, x in zip(ks, range(ks.shape[0])):\n",
    "        probability_results=np.zeros(pattern_iter.shape)\n",
    "        for pattern_num, y in zip(pattern_iter, range(pattern_iter.shape[0])):\n",
    "            # create an instance of the fast HopfieldNetwork\n",
    "            hopfield_net = Hopfield_fast(nr_neurons= pattern_size**2)\n",
    "            #instantiate a pattern factory\n",
    "            factory = pattern_tools.PatternFactory(pattern_size, pattern_size)\n",
    "            ## define a calculator\n",
    "            idx=0\n",
    "                   \n",
    "            for i in range(simulation_times_run_script):\n",
    "                ## Create the random patterns \n",
    "                pattern_list=[]\n",
    "                pattern_list.extend(factory.create_random_pattern_list(nr_patterns=pattern_num, on_probability=0.5))\n",
    "                ## create the new correlated patterns\n",
    "                corr_pattern_list=correlated_patterns(pattern_list, k, pattern_size)\n",
    "                ## let the hopfield network \"learn\" the patterns. \n",
    "                hopfield_net.store_patterns(corr_pattern_list)\n",
    "                ## initialize with original pattern\n",
    "                hopfield_net.set_state_from_pattern(corr_pattern_list[0])\n",
    "                ## from this initial state, let the network dynamics evolve. Because we fix the time steps as 5, so the number there is 5-4=1\n",
    "                states = hopfield_net.run_with_monitoring(nr_steps=5)\n",
    "                ## reshape the network to the same shape used to create the patterns.\n",
    "                states_as_patterns = factory.reshape_patterns(states)\n",
    "                   \n",
    "                overlap_list = pattern_tools.compute_overlap_list(states_as_patterns[-1], corr_pattern_list)\n",
    "                if (np.argmax(overlap_list)==0): \n",
    "                    idx += 1\n",
    "                   \n",
    "            probability_results[y]=idx/simulation_times_run_script\n",
    "        capacity_results[x]=sum(probability_results>=0.99)/N\n",
    "        print('ratio of k to N='+str(k/N)+', Capacity='+str(capacity_results[x]))\n",
    "    return capacity_results "
   ]
  },
  {
   "cell_type": "code",
   "execution_count": null,
   "metadata": {
    "colab": {
     "base_uri": "https://localhost:8080/"
    },
    "id": "R588Iqw_G355",
    "outputId": "717895ec-a509-49d4-f01c-149d128cbe0a"
   },
   "outputs": [
    {
     "name": "stdout",
     "output_type": "stream",
     "text": [
      "ratio of k to N=0.0, Capacity=0.23\n",
      "ratio of k to N=0.1, Capacity=0.09\n",
      "ratio of k to N=0.2, Capacity=0.04\n",
      "ratio of k to N=0.3, Capacity=0.04\n",
      "ratio of k to N=0.4, Capacity=0.02\n",
      "ratio of k to N=0.5, Capacity=0.02\n",
      "ratio of k to N=0.6, Capacity=0.02\n",
      "ratio of k to N=0.7, Capacity=0.02\n",
      "ratio of k to N=0.8, Capacity=0.02\n",
      "ratio of k to N=0.9, Capacity=0.02\n"
     ]
    }
   ],
   "source": [
    "capacity_results_correlation=calculate_capacity_for_correlation(pattern_iter, pattern_size, simulation_times_run_script, ks, N)"
   ]
  },
  {
   "cell_type": "code",
   "execution_count": null,
   "metadata": {
    "colab": {
     "base_uri": "https://localhost:8080/",
     "height": 301
    },
    "id": "j-ReaCKkG355",
    "outputId": "42d7abfb-0ed1-48fc-bfd0-819b76eaee18"
   },
   "outputs": [
    {
     "data": {
      "image/png": "[encoded data removed]",
      "text/plain": [
       "<Figure size 432x288 with 1 Axes>"
      ]
     },
     "metadata": {
      "tags": []
     },
     "output_type": "display_data"
    }
   ],
   "source": [
    "func_corr_plot=pd.DataFrame({\"k/N\":ks/N, \"Capacity\":capacity_results_correlation})\n",
    "sns.lineplot(x = \"k/N\", y = \"Capacity\", data=func_corr_plot)\n",
    "plt.title('correlation ratio k/N value influence on capacity')\n",
    "plt.show()"
   ]
  }
 ],
 "metadata": {
  "colab": {
   "collapsed_sections": [],
   "name": "Code_Hopfield_Networks.ipynb",
   "provenance": []
  },
  "kernelspec": {
   "display_name": "Python 3",
   "language": "python",
   "name": "python3"
  },
  "language_info": {
   "codemirror_mode": {
    "name": "ipython",
    "version": 3
   },
   "file_extension": ".py",
   "mimetype": "text/x-python",
   "name": "python",
   "nbconvert_exporter": "python",
   "pygments_lexer": "ipython3",
   "version": "3.7.3"
  }
 },
 "nbformat": 4,
 "nbformat_minor": 1
}
